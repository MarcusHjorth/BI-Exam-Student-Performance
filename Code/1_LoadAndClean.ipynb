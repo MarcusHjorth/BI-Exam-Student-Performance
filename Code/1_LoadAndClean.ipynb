{
 "cells": [
  {
   "cell_type": "markdown",
   "metadata": {},
   "source": [
    "# Load and clean data"
   ]
  },
  {
   "cell_type": "markdown",
   "metadata": {},
   "source": []
  },
  {
   "cell_type": "code",
   "execution_count": 22,
   "metadata": {},
   "outputs": [],
   "source": [
    "# Note: this import can change from class to class in MP3 \n",
    "\n",
    "# Standard imports\n",
    "import numpy as np\n",
    "import pandas as pd\n",
    "import matplotlib.pyplot as plt\n",
    "import seaborn as sns\n",
    "\n",
    "# Sklearn tools\n",
    "from sklearn.model_selection import train_test_split\n",
    "from sklearn.linear_model import LinearRegression\n",
    "from sklearn.preprocessing import StandardScaler\n",
    "from sklearn.decomposition import PCA\n",
    "from sklearn.metrics import mean_squared_error, r2_score\n",
    "\n",
    "# Style til grafer\n",
    "sns.set(style=\"whitegrid\")"
   ]
  },
  {
   "cell_type": "markdown",
   "metadata": {},
   "source": [
    "## Loading and cleaning the real dataset for student performance"
   ]
  },
  {
   "cell_type": "code",
   "execution_count": null,
   "metadata": {},
   "outputs": [
    {
     "name": "stdout",
     "output_type": "stream",
     "text": [
      "StudentID            0\n",
      "Age                  0\n",
      "Gender               0\n",
      "Ethnicity            0\n",
      "ParentalEducation    0\n",
      "StudyTimeWeekly      0\n",
      "Absences             0\n",
      "Tutoring             0\n",
      "ParentalSupport      0\n",
      "Extracurricular      0\n",
      "Sports               0\n",
      "Music                0\n",
      "Volunteering         0\n",
      "GPA                  0\n",
      "GradeClass           0\n",
      "dtype: int64\n",
      "Duplicate values:  0\n"
     ]
    },
    {
     "data": {
      "text/plain": [
       "Index(['StudentID', 'Age', 'Gender', 'Ethnicity', 'ParentalEducation',\n",
       "       'StudyTimeWeekly', 'Absences', 'Tutoring', 'ParentalSupport',\n",
       "       'Extracurricular', 'Sports', 'Music', 'Volunteering', 'GPA',\n",
       "       'GradeClass'],\n",
       "      dtype='object')"
      ]
     },
     "execution_count": 23,
     "metadata": {},
     "output_type": "execute_result"
    }
   ],
   "source": [
    "import pandas as pd\n",
    "from io import StringIO\n",
    "\n",
    "# Define the column names as per the metadata\n",
    "column_names = [\n",
    "    \"StudentID\", \"Age\", \"Gender\", \"Ethnicity\", \"ParentalEducation\", \"StudyTimeWeekly\",\n",
    "    \"Absences\", \"Tutoring\", \"ParentalSupport\", \"Extracurricular\", \"Sports\", \"Music\",\n",
    "    \"Volunteering\", \"GPA\", \"GradeClass\"\n",
    "]\n",
    "\n",
    "# Open the file and read only the data portion (skip comments and metadata)\n",
    "with open(\"../Data/student_performance_data\", \"r\") as f:\n",
    "    data_lines = [\n",
    "        line.strip() for line in f\n",
    "        if line.strip() and not line.startswith((\"%\", \"@\"))\n",
    "    ]\n",
    "\n",
    "# Convert the filtered lines into a CSV-like format and load into DataFrame\n",
    "realData = pd.read_csv(StringIO(\"\\n\".join(data_lines)), names=column_names)\n",
    "\n",
    "print(realData.isnull().sum())\n",
    "print(\"Duplicate values: \", realData.duplicated().sum())\n",
    "\n",
    "realData.columns\n"
   ]
  },
  {
   "cell_type": "markdown",
   "metadata": {},
   "source": [
    "## Loading and cleaning the simulated dataset for student performance"
   ]
  },
  {
   "cell_type": "code",
   "execution_count": 24,
   "metadata": {},
   "outputs": [
    {
     "name": "stdout",
     "output_type": "stream",
     "text": [
      "student_id                        0\n",
      "age                               0\n",
      "gender                            0\n",
      "study_hours_per_day               0\n",
      "social_media_hours                0\n",
      "netflix_hours                     0\n",
      "part_time_job                     0\n",
      "attendance_percentage             0\n",
      "sleep_hours                       0\n",
      "diet_quality                      0\n",
      "exercise_frequency                0\n",
      "parental_education_level         91\n",
      "internet_quality                  0\n",
      "mental_health_rating              0\n",
      "extracurricular_participation     0\n",
      "exam_score                        0\n",
      "dtype: int64\n",
      "Duplicate values:  0\n"
     ]
    },
    {
     "data": {
      "text/plain": [
       "Index(['StudentID', 'Age', 'Gender', 'Ethnicity', 'ParentalEducation',\n",
       "       'StudyTimeWeekly', 'Absences', 'Tutoring', 'ParentalSupport',\n",
       "       'Extracurricular', 'Sports', 'Music', 'Volunteering', 'GPA',\n",
       "       'GradeClass'],\n",
       "      dtype='object')"
      ]
     },
     "execution_count": 24,
     "metadata": {},
     "output_type": "execute_result"
    }
   ],
   "source": [
    "# Load data \n",
    "simulatedData = pd.read_csv('../Data/student_habits_performance.csv')\n",
    "\n",
    "\n",
    "# Clean dataset (there are no duplicates or null values, so no action needed for deleting those)\n",
    "print(simulatedData.isnull().sum())\n",
    "print(\"Duplicate values: \", simulatedData.duplicated().sum())\n",
    "\n",
    "realData.columns"
   ]
  }
 ],
 "metadata": {
  "kernelspec": {
   "display_name": "venv",
   "language": "python",
   "name": "python3"
  },
  "language_info": {
   "codemirror_mode": {
    "name": "ipython",
    "version": 3
   },
   "file_extension": ".py",
   "mimetype": "text/x-python",
   "name": "python",
   "nbconvert_exporter": "python",
   "pygments_lexer": "ipython3",
   "version": "3.12.7"
  }
 },
 "nbformat": 4,
 "nbformat_minor": 2
}
