{
 "cells": [
  {
   "cell_type": "markdown",
   "metadata": {},
   "source": [
    "# Load and clean data"
   ]
  },
  {
   "cell_type": "markdown",
   "metadata": {},
   "source": []
  },
  {
   "cell_type": "code",
   "execution_count": 7,
   "metadata": {},
   "outputs": [],
   "source": [
    "# Note: this import can change from class to class in MP3 \n",
    "\n",
    "# Standard imports\n",
    "import numpy as np\n",
    "import pandas as pd\n",
    "import matplotlib.pyplot as plt\n",
    "import seaborn as sns\n",
    "import os\n",
    "\n",
    "# Sklearn tools\n",
    "from sklearn.model_selection import train_test_split\n",
    "from sklearn.linear_model import LinearRegression\n",
    "from sklearn.preprocessing import StandardScaler\n",
    "from sklearn.decomposition import PCA\n",
    "from sklearn.metrics import mean_squared_error, r2_score\n",
    "\n",
    "\n",
    "# Style til grafer\n",
    "sns.set(style=\"whitegrid\")"
   ]
  },
  {
   "cell_type": "markdown",
   "metadata": {},
   "source": [
    "## Loading and cleaning the real dataset for student performance"
   ]
  },
  {
   "cell_type": "markdown",
   "metadata": {},
   "source": [
    "We start getting the column names and then move on to cleaning the dataset. We do that by first skipping the metadata and afterwards check if there are any dublicated values. in our case no duplicates values are found so we move on."
   ]
  },
  {
   "cell_type": "code",
   "execution_count": 8,
   "metadata": {},
   "outputs": [
    {
     "name": "stdout",
     "output_type": "stream",
     "text": [
      "StudentID            0\n",
      "Age                  0\n",
      "Gender               0\n",
      "Ethnicity            0\n",
      "ParentalEducation    0\n",
      "StudyTimeWeekly      0\n",
      "Absences             0\n",
      "Tutoring             0\n",
      "ParentalSupport      0\n",
      "Extracurricular      0\n",
      "Sports               0\n",
      "Music                0\n",
      "Volunteering         0\n",
      "GPA                  0\n",
      "GradeClass           0\n",
      "dtype: int64\n",
      "Duplicate values:  0\n",
      "Age                     0\n",
      "Gender                  0\n",
      "Ethnicity               0\n",
      "ParentalEducation       0\n",
      "StudyTimeWeekly         0\n",
      "Absences                0\n",
      "Tutoring             2392\n",
      "ParentalSupport      2392\n",
      "Extracurricular      2392\n",
      "Sports               2392\n",
      "Music                2392\n",
      "Volunteering         2392\n",
      "GPA                     0\n",
      "GradeClass              0\n",
      "dtype: int64\n",
      "Duplicate values:  0\n",
      "Shape efter cleaning: (2392, 14)\n",
      "Datatyper:\n",
      " Age                  float64\n",
      "Gender               float64\n",
      "Ethnicity            float64\n",
      "ParentalEducation    float64\n",
      "StudyTimeWeekly      float64\n",
      "Absences             float64\n",
      "Tutoring             float64\n",
      "ParentalSupport      float64\n",
      "Extracurricular      float64\n",
      "Sports               float64\n",
      "Music                float64\n",
      "Volunteering         float64\n",
      "GPA                  float64\n",
      "GradeClass           float64\n",
      "dtype: object\n"
     ]
    }
   ],
   "source": [
    "import pandas as pd\n",
    "from io import StringIO\n",
    "\n",
    "# Define the column names as per the metadata\n",
    "column_names = [\n",
    "    \"StudentID\", \"Age\", \"Gender\", \"Ethnicity\", \"ParentalEducation\", \"StudyTimeWeekly\",\n",
    "    \"Absences\", \"Tutoring\", \"ParentalSupport\", \"Extracurricular\", \"Sports\", \"Music\",\n",
    "    \"Volunteering\", \"GPA\", \"GradeClass\"\n",
    "]\n",
    "\n",
    "# Open the file and read only the data portion (skip comments and metadata)\n",
    "with open(\"../Data/RawData/real_data_openML\", \"r\") as f:\n",
    "    data_lines = [\n",
    "        line.strip() for line in f\n",
    "        if line.strip() and not line.startswith((\"%\", \"@\"))\n",
    "    ]\n",
    "\n",
    "# Convert the filtered lines into a CSV-like format and load into DataFrame\n",
    "realData = pd.read_csv(StringIO(\"\\n\".join(data_lines)), names=column_names)\n",
    "\n",
    "print(realData.isnull().sum())\n",
    "print(\"Duplicate values: \", realData.duplicated().sum())\n",
    "\n",
    "realData.columns\n",
    "\n",
    "\n",
    "# 1. Fjern duplikater\n",
    "realData = realData.drop_duplicates()\n",
    "\n",
    "# 2. Drop rows med manglende værdier (eller evt. imputér, hvis få mangler)\n",
    "realData = realData.dropna()\n",
    "\n",
    "# 3. Fjern unødvendige kolonner\n",
    "realData = realData.drop(columns=[\"StudentID\"])\n",
    "\n",
    "\n",
    "\n",
    "# 5. Konverter kolonner til numerisk (i tilfælde af forkerte typer)\n",
    "num_cols = [\"Age\", \"StudyTimeWeekly\", \"Absences\", \"GPA\"]\n",
    "for col in num_cols:\n",
    "    realData[col] = pd.to_numeric(realData[col], errors=\"coerce\")\n",
    "\n",
    "\n",
    "\n",
    "# 6. Fjern ekstreme værdier i StudyTimeWeekly (fx > 100 timer/uge)\n",
    "realData = realData[realData[\"StudyTimeWeekly\"] <= 100]\n",
    "\n",
    "\n",
    "\n",
    "# 7. Konverter ja/nej-variabler til 0/1\n",
    "binary_cols = [\"Tutoring\", \"ParentalSupport\", \"Extracurricular\", \"Sports\", \"Music\", \"Volunteering\"]\n",
    "for col in binary_cols:\n",
    "    realData[col] = realData[col].map({\"yes\": 1, \"no\": 0})\n",
    "\n",
    "\n",
    "    # ---------- Tjek status ----------\n",
    "print(realData.isnull().sum())\n",
    "print(\"Duplicate values: \", realData.duplicated().sum())\n",
    "print(\"Shape efter cleaning:\", realData.shape)\n",
    "print(\"Datatyper:\\n\", realData.dtypes)"
   ]
  },
  {
   "cell_type": "code",
   "execution_count": 9,
   "metadata": {},
   "outputs": [
    {
     "name": "stdout",
     "output_type": "stream",
     "text": [
      "Dataset gemt som: ../Data/CleanedData\\real_data_cleaned.csv\n"
     ]
    }
   ],
   "source": [
    "# safe the new cleaned dataset \n",
    "\n",
    "# Lav en kopi af det cleanede dataset\n",
    "realData_cleaned = realData.copy()\n",
    "\n",
    "# Opret mappe hvis den ikke allerede findes\n",
    "output_dir = \"../Data/CleanedData\"\n",
    "os.makedirs(output_dir, exist_ok=True)\n",
    "\n",
    "# Gem CSV-fil\n",
    "output_path = os.path.join(output_dir, \"real_data_cleaned.csv\")\n",
    "realData_cleaned.to_csv(output_path, index=False)\n",
    "\n",
    "print(f\"Dataset gemt som: {output_path}\")\n"
   ]
  },
  {
   "cell_type": "markdown",
   "metadata": {},
   "source": [
    "## Loading and cleaning the simulated dataset for student performance"
   ]
  },
  {
   "cell_type": "markdown",
   "metadata": {},
   "source": [
    "As with whe other dataset we check if there are any duplicated values."
   ]
  },
  {
   "cell_type": "code",
   "execution_count": 10,
   "metadata": {},
   "outputs": [
    {
     "name": "stdout",
     "output_type": "stream",
     "text": [
      "student_id                       0\n",
      "age                              0\n",
      "gender                           0\n",
      "study_hours_per_day              0\n",
      "social_media_hours               0\n",
      "netflix_hours                    0\n",
      "part_time_job                    0\n",
      "attendance_percentage            0\n",
      "sleep_hours                      0\n",
      "diet_quality                     0\n",
      "exercise_frequency               0\n",
      "parental_education_level         0\n",
      "internet_quality                 0\n",
      "mental_health_rating             0\n",
      "extracurricular_participation    0\n",
      "exam_score                       0\n",
      "dtype: int64\n",
      "Duplicate values:  0\n",
      "Shape efter cleaning: (909, 16)\n",
      "Datatyper:\n",
      " student_id                        object\n",
      "age                                int64\n",
      "gender                            object\n",
      "study_hours_per_day              float64\n",
      "social_media_hours               float64\n",
      "netflix_hours                    float64\n",
      "part_time_job                     object\n",
      "attendance_percentage            float64\n",
      "sleep_hours                      float64\n",
      "diet_quality                      object\n",
      "exercise_frequency                 int64\n",
      "parental_education_level          object\n",
      "internet_quality                  object\n",
      "mental_health_rating               int64\n",
      "extracurricular_participation     object\n",
      "exam_score                       float64\n",
      "dtype: object\n"
     ]
    }
   ],
   "source": [
    "# Load data \n",
    "simulatedData = pd.read_csv('../Data/RawData/simulated_data_kaggle.csv')\n",
    "\n",
    "# ----------- Data cleaning for simulatedData -----------\n",
    "\n",
    "# 1. Fjern duplikater\n",
    "simulatedData = simulatedData.drop_duplicates()\n",
    "\n",
    "# 2. Fjern rækker med manglende værdier\n",
    "simulatedData = simulatedData.dropna()\n",
    "\n",
    "# 3. Fjern unødvendige kolonner, hvis de findes (fx 'StudentID')\n",
    "if \"StudentID\" in simulatedData.columns:\n",
    "    simulatedData = simulatedData.drop(columns=[\"StudentID\"])\n",
    "\n",
    "# 4. Standardisér tekstfelter (ens formatering)\n",
    "for col in simulatedData.select_dtypes(include='object').columns:\n",
    "    simulatedData[col] = simulatedData[col].str.strip().str.lower()\n",
    "\n",
    "# 5. Konverter kolonner til numerisk\n",
    "num_cols = [\"Age\", \"StudyTimeWeekly\", \"Absences\", \"GPA\"]\n",
    "for col in num_cols:\n",
    "    if col in simulatedData.columns:\n",
    "        simulatedData[col] = pd.to_numeric(simulatedData[col], errors=\"coerce\")\n",
    "\n",
    "# 6. Fjern outliers i StudyTimeWeekly (>100 timer/uge)\n",
    "if \"StudyTimeWeekly\" in simulatedData.columns:\n",
    "    simulatedData = simulatedData[simulatedData[\"StudyTimeWeekly\"] <= 100]\n",
    "\n",
    "# 7. Konverter ja/nej-kolonner til 0/1\n",
    "binary_cols = [\"Tutoring\", \"ParentalSupport\", \"Extracurricular\", \"Sports\", \"Music\", \"Volunteering\"]\n",
    "for col in binary_cols:\n",
    "    if col in simulatedData.columns:\n",
    "        simulatedData[col] = simulatedData[col].map({\"yes\": 1, \"no\": 0})\n",
    "\n",
    "# 8. Reset index\n",
    "simulatedData = simulatedData.reset_index(drop=True)\n",
    "\n",
    "# ----------- Status -----------\n",
    "\n",
    "print(simulatedData.isnull().sum())\n",
    "print(\"Duplicate values: \", simulatedData.duplicated().sum())\n",
    "print(\"Shape efter cleaning:\", simulatedData.shape)\n",
    "print(\"Datatyper:\\n\", simulatedData.dtypes)\n"
   ]
  },
  {
   "cell_type": "code",
   "execution_count": 11,
   "metadata": {},
   "outputs": [
    {
     "name": "stdout",
     "output_type": "stream",
     "text": [
      "realData gemt som: ../Data/CleanedData\\real_data_cleaned.csv\n",
      "simulatedData gemt som: ../Data/CleanedData\\simulated_data_cleaned.csv\n"
     ]
    }
   ],
   "source": [
    "\n",
    "\n",
    "# Lav en kopi af det cleanede realData\n",
    "realData_cleaned = realData.copy()\n",
    "\n",
    "# Lav en kopi af det cleanede simulatedData\n",
    "simulatedData_cleaned = simulatedData.copy()\n",
    "\n",
    "# Opret mappen hvis den ikke findes\n",
    "output_dir = \"../Data/CleanedData\"\n",
    "os.makedirs(output_dir, exist_ok=True)\n",
    "\n",
    "# Gem realData_cleaned\n",
    "real_path = os.path.join(output_dir, \"real_data_cleaned.csv\")\n",
    "realData_cleaned.to_csv(real_path, index=False)\n",
    "\n",
    "# Gem simulatedData_cleaned\n",
    "sim_path = os.path.join(output_dir, \"simulated_data_cleaned.csv\")\n",
    "simulatedData_cleaned.to_csv(sim_path, index=False)\n",
    "\n",
    "print(f\"realData gemt som: {real_path}\")\n",
    "print(f\"simulatedData gemt som: {sim_path}\")\n"
   ]
  }
 ],
 "metadata": {
  "kernelspec": {
   "display_name": ".venv",
   "language": "python",
   "name": "python3"
  },
  "language_info": {
   "codemirror_mode": {
    "name": "ipython",
    "version": 3
   },
   "file_extension": ".py",
   "mimetype": "text/x-python",
   "name": "python",
   "nbconvert_exporter": "python",
   "pygments_lexer": "ipython3",
   "version": "3.13.3"
  }
 },
 "nbformat": 4,
 "nbformat_minor": 2
}
